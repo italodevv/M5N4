{
  "nbformat": 4,
  "nbformat_minor": 0,
  "metadata": {
    "colab": {
      "provenance": []
    },
    "kernelspec": {
      "name": "python3",
      "display_name": "Python 3"
    },
    "language_info": {
      "name": "python"
    }
  },
  "cells": [
    {
      "cell_type": "markdown",
      "source": [
        "Instalação da biblioteca\n"
      ],
      "metadata": {
        "id": "gKAWc2CILTs8"
      }
    },
    {
      "cell_type": "code",
      "source": [
        "!pip install langdetect\n"
      ],
      "metadata": {
        "colab": {
          "base_uri": "https://localhost:8080/"
        },
        "id": "ag_4An2PLZ_s",
        "outputId": "56bc4966-0bb7-4b41-c643-7cdfd1b8f5e9"
      },
      "execution_count": 4,
      "outputs": [
        {
          "output_type": "stream",
          "name": "stdout",
          "text": [
            "Collecting langdetect\n",
            "  Downloading langdetect-1.0.9.tar.gz (981 kB)\n",
            "\u001b[?25l     \u001b[90m━━━━━━━━━━━━━━━━━━━━━━━━━━━━━━━━━━━━━━━━\u001b[0m \u001b[32m0.0/981.5 kB\u001b[0m \u001b[31m?\u001b[0m eta \u001b[36m-:--:--\u001b[0m\r\u001b[2K     \u001b[91m━━━━━\u001b[0m\u001b[91m╸\u001b[0m\u001b[90m━━━━━━━━━━━━━━━━━━━━━━━━━━━━━━━━━━\u001b[0m \u001b[32m143.4/981.5 kB\u001b[0m \u001b[31m4.3 MB/s\u001b[0m eta \u001b[36m0:00:01\u001b[0m\r\u001b[2K     \u001b[91m━━━━━━━━━━━━━━━━━━━━━━━━━━━━━\u001b[0m\u001b[91m╸\u001b[0m\u001b[90m━━━━━━━━━━\u001b[0m \u001b[32m727.0/981.5 kB\u001b[0m \u001b[31m10.3 MB/s\u001b[0m eta \u001b[36m0:00:01\u001b[0m\r\u001b[2K     \u001b[90m━━━━━━━━━━━━━━━━━━━━━━━━━━━━━━━━━━━━━━━━\u001b[0m \u001b[32m981.5/981.5 kB\u001b[0m \u001b[31m11.5 MB/s\u001b[0m eta \u001b[36m0:00:00\u001b[0m\n",
            "\u001b[?25h  Preparing metadata (setup.py) ... \u001b[?25l\u001b[?25hdone\n",
            "Requirement already satisfied: six in /usr/local/lib/python3.10/dist-packages (from langdetect) (1.16.0)\n",
            "Building wheels for collected packages: langdetect\n",
            "  Building wheel for langdetect (setup.py) ... \u001b[?25l\u001b[?25hdone\n",
            "  Created wheel for langdetect: filename=langdetect-1.0.9-py3-none-any.whl size=993222 sha256=5737c496d6ac19d02944cbb01c23b3d295d50a4a4edb04cc280dab42515561bd\n",
            "  Stored in directory: /root/.cache/pip/wheels/95/03/7d/59ea870c70ce4e5a370638b5462a7711ab78fba2f655d05106\n",
            "Successfully built langdetect\n",
            "Installing collected packages: langdetect\n",
            "Successfully installed langdetect-1.0.9\n"
          ]
        }
      ]
    },
    {
      "cell_type": "markdown",
      "source": [
        "Definir frases em diferentes idiomas"
      ],
      "metadata": {
        "id": "CxmmTh5HLd9U"
      }
    },
    {
      "cell_type": "code",
      "source": [
        "text = [\n",
        "    \"Wear masks, keep distance, wash hands, be safe in these difficult days.\",\n",
        "    \"Viseljen maszkot, tartson távolságot, mosson kezet, legyen biztonságban ezekben a nehéz napokban\",\n",
        "    \"Deaths are increasing, be vigilant.\",\n",
        "    \"Носите маски, соблюдайте дистанцию, мойте руки, будьте осторожны в эти тяжелые дни.\",\n",
        "    \"Covid-19: Indians flock to vaccination centers as vaccines are now available for 60+ in India since the 1st of March\",\n",
        "    \"Indossa maschere, mantieni le distanze, lavati le mani, sii al sicuro in questi giorni difficili.\",\n",
        "    \"Portez des masques, gardez vos distances, lavez-vous les mains, soyez en sécurité en ces jours difficiles.\",\n",
        "    \"Brug masker, hold afstand, vask hænder, vær sikker i disse vanskelige dage.\",\n",
        "    \"We are facing a global education crisis. No effort should be spared to safely bring every child back into the classroom.\",\n",
        "    \"Bruk masker, hold avstand, vask hendene, vær trygg i disse vanskelige dagene.\",\n",
        "    \"Portu maskojn, tenu distancon, lavu manojn, estu sekuraj en ĉi tiuj malfacilaj tagoj.\",\n",
        "    \"Tragen Sie Masken, halten Sie Abstand, waschen Sie Ihre Hände, seien Sie in diesen schwierigen Tagen sicher.\",\n",
        "    \"Носіть маски, тримайтеся на відстані, мийте руки, будьте в безпеці в ці важкі дні.\",\n",
        "    \"Lock down, working from home are the keys words for these days.\",\n",
        "    \"Lives have changed drastically across the planet and this period will forever be remembered as the beginning of something we have yet to witness.\",\n",
        "    \"Este é um exemplo de texto escrito em português.\"\n",
        "]\n"
      ],
      "metadata": {
        "id": "6tnmaOdeLgOb"
      },
      "execution_count": 1,
      "outputs": []
    },
    {
      "cell_type": "markdown",
      "source": [
        "Recarregar o ambiente python"
      ],
      "metadata": {
        "id": "CuDjyd4CLn_G"
      }
    },
    {
      "cell_type": "code",
      "source": [
        "import pkg_resources, imp\n",
        "imp.reload(pkg_resources)\n"
      ],
      "metadata": {
        "colab": {
          "base_uri": "https://localhost:8080/"
        },
        "id": "Rod2rNT4Lrg0",
        "outputId": "9dba887d-e65d-4ed3-f895-94a4b988bbf7"
      },
      "execution_count": 2,
      "outputs": [
        {
          "output_type": "execute_result",
          "data": {
            "text/plain": [
              "<module 'pkg_resources' from '/usr/local/lib/python3.10/dist-packages/pkg_resources/__init__.py'>"
            ]
          },
          "metadata": {},
          "execution_count": 2
        }
      ]
    },
    {
      "cell_type": "markdown",
      "source": [
        "Detectar a linguagem predominante"
      ],
      "metadata": {
        "id": "h63Ren9YLweP"
      }
    },
    {
      "cell_type": "code",
      "source": [
        "from langdetect import detect\n",
        "\n",
        "for x in text:\n",
        "    print('Frase: ', x)\n",
        "    print('Idioma: ', detect(x), '\\n\\n')\n"
      ],
      "metadata": {
        "colab": {
          "base_uri": "https://localhost:8080/"
        },
        "id": "sY8WxIm-LyJi",
        "outputId": "6e2c895d-d4de-4d89-880a-3baf0b002900"
      },
      "execution_count": 5,
      "outputs": [
        {
          "output_type": "stream",
          "name": "stdout",
          "text": [
            "Frase:  Wear masks, keep distance, wash hands, be safe in these difficult days.\n",
            "Idioma:  en \n",
            "\n",
            "\n",
            "Frase:  Viseljen maszkot, tartson távolságot, mosson kezet, legyen biztonságban ezekben a nehéz napokban\n",
            "Idioma:  hu \n",
            "\n",
            "\n",
            "Frase:  Deaths are increasing, be vigilant.\n",
            "Idioma:  en \n",
            "\n",
            "\n",
            "Frase:  Носите маски, соблюдайте дистанцию, мойте руки, будьте осторожны в эти тяжелые дни.\n",
            "Idioma:  ru \n",
            "\n",
            "\n",
            "Frase:  Covid-19: Indians flock to vaccination centers as vaccines are now available for 60+ in India since the 1st of March\n",
            "Idioma:  en \n",
            "\n",
            "\n",
            "Frase:  Indossa maschere, mantieni le distanze, lavati le mani, sii al sicuro in questi giorni difficili.\n",
            "Idioma:  it \n",
            "\n",
            "\n",
            "Frase:  Portez des masques, gardez vos distances, lavez-vous les mains, soyez en sécurité en ces jours difficiles.\n",
            "Idioma:  fr \n",
            "\n",
            "\n",
            "Frase:  Brug masker, hold afstand, vask hænder, vær sikker i disse vanskelige dage.\n",
            "Idioma:  da \n",
            "\n",
            "\n",
            "Frase:  We are facing a global education crisis. No effort should be spared to safely bring every child back into the classroom.\n",
            "Idioma:  en \n",
            "\n",
            "\n",
            "Frase:  Bruk masker, hold avstand, vask hendene, vær trygg i disse vanskelige dagene.\n",
            "Idioma:  da \n",
            "\n",
            "\n",
            "Frase:  Portu maskojn, tenu distancon, lavu manojn, estu sekuraj en ĉi tiuj malfacilaj tagoj.\n",
            "Idioma:  hr \n",
            "\n",
            "\n",
            "Frase:  Tragen Sie Masken, halten Sie Abstand, waschen Sie Ihre Hände, seien Sie in diesen schwierigen Tagen sicher.\n",
            "Idioma:  de \n",
            "\n",
            "\n",
            "Frase:  Носіть маски, тримайтеся на відстані, мийте руки, будьте в безпеці в ці важкі дні.\n",
            "Idioma:  uk \n",
            "\n",
            "\n",
            "Frase:  Lock down, working from home are the keys words for these days.\n",
            "Idioma:  en \n",
            "\n",
            "\n",
            "Frase:  Lives have changed drastically across the planet and this period will forever be remembered as the beginning of something we have yet to witness.\n",
            "Idioma:  en \n",
            "\n",
            "\n",
            "Frase:  Este é um exemplo de texto escrito em português.\n",
            "Idioma:  pt \n",
            "\n",
            "\n"
          ]
        }
      ]
    }
  ]
}